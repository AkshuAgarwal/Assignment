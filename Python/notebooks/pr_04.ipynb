{
 "cells": [
  {
   "cell_type": "markdown",
   "metadata": {},
   "source": [
    "## Project 4:\n",
    "\n",
    "Write a program to create a data series and then change the indexes of the Series object in any random order."
   ]
  },
  {
   "cell_type": "code",
   "execution_count": 1,
   "metadata": {},
   "outputs": [],
   "source": [
    "import pandas as pd\n",
    "import numpy as np"
   ]
  },
  {
   "cell_type": "code",
   "execution_count": 2,
   "metadata": {},
   "outputs": [
    {
     "name": "stdout",
     "output_type": "stream",
     "text": [
      "Data Series:\n",
      "A    1\n",
      "B    2\n",
      "C    3\n",
      "D    4\n",
      "E    5\n",
      "F    6\n",
      "G    7\n",
      "H    8\n",
      "dtype: int64\n"
     ]
    }
   ],
   "source": [
    "series = pd.Series(\n",
    "    data=[1, 2, 3, 4, 5, 6, 7, 8], index=[\"A\", \"B\", \"C\", \"D\", \"E\", \"F\", \"G\", \"H\"]\n",
    ")\n",
    "print(f\"Data Series:\\n{series}\")"
   ]
  },
  {
   "cell_type": "code",
   "execution_count": 4,
   "metadata": {},
   "outputs": [
    {
     "name": "stdout",
     "output_type": "stream",
     "text": [
      "Data Series after reindexing:\n",
      "B    2\n",
      "G    7\n",
      "C    3\n",
      "F    6\n",
      "E    5\n",
      "A    1\n",
      "H    8\n",
      "D    4\n",
      "dtype: int64\n"
     ]
    }
   ],
   "source": [
    "series_changed = series.reindex(index=[\"B\", \"G\", \"C\", \"F\", \"E\", \"A\", \"H\", \"D\"])\n",
    "print(f\"Data Series after reindexing:\\n{series_changed}\")"
   ]
  }
 ],
 "metadata": {
  "interpreter": {
   "hash": "ea0cef0ce7b82dfebf1217f80824e7c76b54921b4e621df60a1fb3bb51f83c15"
  },
  "kernelspec": {
   "display_name": "Python 3.9.7 64-bit",
   "language": "python",
   "name": "python3"
  },
  "language_info": {
   "codemirror_mode": {
    "name": "ipython",
    "version": 3
   },
   "file_extension": ".py",
   "mimetype": "text/x-python",
   "name": "python",
   "nbconvert_exporter": "python",
   "pygments_lexer": "ipython3",
   "version": "3.9.7"
  },
  "orig_nbformat": 4
 },
 "nbformat": 4,
 "nbformat_minor": 2
}
