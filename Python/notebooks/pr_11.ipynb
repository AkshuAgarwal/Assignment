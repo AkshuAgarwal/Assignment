{
 "cells": [
  {
   "cell_type": "markdown",
   "metadata": {},
   "source": [
    "## Project 11:\n",
    "\n",
    "Create a DataFrame `ResultDF`, contains\n",
    "\n",
    "|         |   Arnab |   Ramit |   Samridhi |   Riya |   Mallika |\n",
    "|:--------|--------:|--------:|-----------:|-------:|----------:|\n",
    "| Maths   |      90 |      92 |         89 |     81 |        94 |\n",
    "| Science |      91 |      81 |         91 |     71 |        95 |\n",
    "| Hindi   |      97 |      96 |         88 |     67 |        99 |\n",
    "| English |      95 |      86 |         95 |     80 |        95 |\n",
    "\n",
    "Write a Python Program to:\n",
    "<ol>\n",
    "    <li> delete column 'Ramit' and 'Mallika' </li>\n",
    "    <li> Delete row 'Hindi', Show the ResultDF. </li>\n",
    "</ol>"
   ]
  },
  {
   "cell_type": "code",
   "execution_count": 1,
   "metadata": {},
   "outputs": [],
   "source": [
    "import pandas as pd"
   ]
  },
  {
   "cell_type": "code",
   "execution_count": 2,
   "metadata": {},
   "outputs": [
    {
     "name": "stdout",
     "output_type": "stream",
     "text": [
      "         Arnab  Ramit  Samridhi  Riya  Mallika\n",
      "Maths       90     92        89    81       94\n",
      "Science     91     81        91    71       95\n",
      "Hindi       97     96        88    67       99\n",
      "English     95     86        95    80       95\n"
     ]
    }
   ],
   "source": [
    "data = {\n",
    "    \"Arnab\": [90, 91, 97, 95],\n",
    "    \"Ramit\": [92, 81, 96, 86],\n",
    "    \"Samridhi\": [89, 91, 88, 95],\n",
    "    \"Riya\": [81, 71, 67, 80],\n",
    "    \"Mallika\": [94, 95, 99, 95],\n",
    "}\n",
    "result_df = pd.DataFrame(data, [\"Maths\", \"Science\", \"Hindi\", \"English\"])\n",
    "print(result_df)"
   ]
  },
  {
   "cell_type": "code",
   "execution_count": 3,
   "metadata": {},
   "outputs": [
    {
     "name": "stdout",
     "output_type": "stream",
     "text": [
      "         Arnab  Samridhi  Riya\n",
      "Maths       90        89    81\n",
      "Science     91        91    71\n",
      "Hindi       97        88    67\n",
      "English     95        95    80\n"
     ]
    }
   ],
   "source": [
    "del result_df[\"Ramit\"]\n",
    "del result_df[\"Mallika\"]\n",
    "result_df.drop([\"Hindi\"])\n",
    "print(result_df)"
   ]
  }
 ],
 "metadata": {
  "interpreter": {
   "hash": "ea0cef0ce7b82dfebf1217f80824e7c76b54921b4e621df60a1fb3bb51f83c15"
  },
  "kernelspec": {
   "display_name": "Python 3.9.7 64-bit",
   "language": "python",
   "name": "python3"
  },
  "language_info": {
   "codemirror_mode": {
    "name": "ipython",
    "version": 3
   },
   "file_extension": ".py",
   "mimetype": "text/x-python",
   "name": "python",
   "nbconvert_exporter": "python",
   "pygments_lexer": "ipython3",
   "version": "3.9.7"
  },
  "orig_nbformat": 4
 },
 "nbformat": 4,
 "nbformat_minor": 2
}
