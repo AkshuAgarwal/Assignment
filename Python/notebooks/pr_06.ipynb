{
 "cells": [
  {
   "cell_type": "markdown",
   "metadata": {},
   "source": [
    "## Project 6:\n",
    "\n",
    "Write a Python program to create a Dataframe Score containing following data :–\n",
    "\n",
    "|         |   Arnab |   Ramit |   Samridhi |   Riya |   Mallika |   Preeti |\n",
    "|:--------|--------:|--------:|-----------:|-------:|----------:|---------:|\n",
    "| Maths   |      90 |      92 |         89 |     81 |        94 |       89 |\n",
    "| Science |      91 |      81 |         91 |     71 |        95 |       78 |\n",
    "| Hindi   |      97 |      96 |         88 |     67 |        99 |       76 |"
   ]
  },
  {
   "cell_type": "code",
   "execution_count": 1,
   "metadata": {},
   "outputs": [],
   "source": [
    "import pandas as pd"
   ]
  },
  {
   "cell_type": "code",
   "execution_count": 2,
   "metadata": {},
   "outputs": [],
   "source": [
    "data = {\n",
    "    \"Arnab\": [90, 91, 97],\n",
    "    \"Ramit\": [92, 81, 96],\n",
    "    \"Samridhi\": [89, 91, 88],\n",
    "    \"Riya\": [81, 71, 67],\n",
    "    \"Mallika\": [94, 95, 99],\n",
    "    \"Preeti\": [89, 78, 76],\n",
    "}"
   ]
  },
  {
   "cell_type": "code",
   "execution_count": 3,
   "metadata": {},
   "outputs": [
    {
     "name": "stdout",
     "output_type": "stream",
     "text": [
      "         Arnab  Ramit  Samridhi  Riya  Mallika  Preeti\n",
      "Maths       90     92        89    81       94      89\n",
      "Science     91     81        91    71       95      78\n",
      "Hindi       97     96        88    67       99      76\n"
     ]
    }
   ],
   "source": [
    "score = pd.DataFrame(data, [\"Maths\", \"Science\", \"Hindi\"])\n",
    "print(score)"
   ]
  }
 ],
 "metadata": {
  "interpreter": {
   "hash": "ea0cef0ce7b82dfebf1217f80824e7c76b54921b4e621df60a1fb3bb51f83c15"
  },
  "kernelspec": {
   "display_name": "Python 3.9.7 64-bit",
   "language": "python",
   "name": "python3"
  },
  "language_info": {
   "codemirror_mode": {
    "name": "ipython",
    "version": 3
   },
   "file_extension": ".py",
   "mimetype": "text/x-python",
   "name": "python",
   "nbconvert_exporter": "python",
   "pygments_lexer": "ipython3",
   "version": "3.9.7"
  },
  "orig_nbformat": 4
 },
 "nbformat": 4,
 "nbformat_minor": 2
}
