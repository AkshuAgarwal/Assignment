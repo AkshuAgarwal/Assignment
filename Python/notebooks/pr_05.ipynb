{
 "cells": [
  {
   "cell_type": "markdown",
   "metadata": {},
   "source": [
    "## Project 5:\n",
    "\n",
    "Create a series object marks, containing marks of 6 students.\n",
    "\n",
    "Write a Python program to sort the values of a Series object marks in ascending order and descending order and store it into Series object ascMarks and descMarks respectively."
   ]
  },
  {
   "cell_type": "code",
   "execution_count": 1,
   "metadata": {},
   "outputs": [],
   "source": [
    "import pandas as pd"
   ]
  },
  {
   "cell_type": "code",
   "execution_count": 2,
   "metadata": {},
   "outputs": [
    {
     "name": "stdout",
     "output_type": "stream",
     "text": [
      "Marks:\n",
      "Ahana      98\n",
      "Sarthak    49\n",
      "Rashi      86\n",
      "Muskan     78\n",
      "Manvi      96\n",
      "Kashvi     59\n",
      "dtype: int64\n"
     ]
    }
   ],
   "source": [
    "marks = pd.Series(\n",
    "    [98, 49, 86, 78, 96, 59], [\"Ahana\", \"Sarthak\", \"Rashi\", \"Muskan\", \"Manvi\", \"Kashvi\"]\n",
    ")\n",
    "print(f\"Marks:\\n{marks}\")"
   ]
  },
  {
   "cell_type": "code",
   "execution_count": 3,
   "metadata": {},
   "outputs": [
    {
     "name": "stdout",
     "output_type": "stream",
     "text": [
      "Marks after sorting in Ascending order:\n",
      "Sarthak    49\n",
      "Kashvi     59\n",
      "Muskan     78\n",
      "Rashi      86\n",
      "Manvi      96\n",
      "Ahana      98\n",
      "dtype: int64\n"
     ]
    }
   ],
   "source": [
    "asc_marks = marks.sort_values(ascending=True)\n",
    "print(f\"Marks after sorting in Ascending order:\\n{asc_marks}\")"
   ]
  },
  {
   "cell_type": "code",
   "execution_count": 4,
   "metadata": {},
   "outputs": [
    {
     "name": "stdout",
     "output_type": "stream",
     "text": [
      "Marks after sorting in Descending order:\n",
      "Ahana      98\n",
      "Manvi      96\n",
      "Rashi      86\n",
      "Muskan     78\n",
      "Kashvi     59\n",
      "Sarthak    49\n",
      "dtype: int64\n"
     ]
    }
   ],
   "source": [
    "desc_marks = marks.sort_values(ascending=False)\n",
    "print(f\"Marks after sorting in Descending order:\\n{desc_marks}\")"
   ]
  }
 ],
 "metadata": {
  "interpreter": {
   "hash": "ea0cef0ce7b82dfebf1217f80824e7c76b54921b4e621df60a1fb3bb51f83c15"
  },
  "kernelspec": {
   "display_name": "Python 3.9.7 64-bit",
   "language": "python",
   "name": "python3"
  },
  "language_info": {
   "codemirror_mode": {
    "name": "ipython",
    "version": 3
   },
   "file_extension": ".py",
   "mimetype": "text/x-python",
   "name": "python",
   "nbconvert_exporter": "python",
   "pygments_lexer": "ipython3",
   "version": "3.9.7"
  },
  "orig_nbformat": 4
 },
 "nbformat": 4,
 "nbformat_minor": 2
}
