{
 "cells": [
  {
   "cell_type": "markdown",
   "metadata": {},
   "source": [
    "## Project 9:\n",
    "\n",
    "Write a program to iterate over a DataFrame containing names and marks, which then calculate marks as per the criteria and then adds them to the grade column.\n",
    "\n",
    "Marks >= 80 grade is A, Marks >= 60 grade is B, Marks < 60 grade is C"
   ]
  },
  {
   "cell_type": "code",
   "execution_count": 1,
   "metadata": {},
   "outputs": [],
   "source": [
    "import pandas as pd\n",
    "import numpy as np"
   ]
  },
  {
   "cell_type": "code",
   "execution_count": 2,
   "metadata": {},
   "outputs": [],
   "source": [
    "names = pd.Series([\"Rohan\", \"Samay\", \"Shantanu\", \"Shruti\", \"Tanya\"])\n",
    "marks = pd.Series([89, 76, 43, 38, 98])\n",
    "stu = {\"Name\": names, \"Marks\": marks}"
   ]
  },
  {
   "cell_type": "code",
   "execution_count": 3,
   "metadata": {},
   "outputs": [],
   "source": [
    "dfl = pd.DataFrame(stu, columns=[\"Name\", \"Marks\"])\n",
    "dfl[\"Grade\"] = np.nan"
   ]
  },
  {
   "cell_type": "code",
   "execution_count": 4,
   "metadata": {},
   "outputs": [
    {
     "name": "stdout",
     "output_type": "stream",
     "text": [
      "Initial Values:\n",
      "       Name  Marks  Grade\n",
      "0     Rohan     89    NaN\n",
      "1     Samay     76    NaN\n",
      "2  Shantanu     43    NaN\n",
      "3    Shruti     38    NaN\n",
      "4     Tanya     98    NaN\n"
     ]
    }
   ],
   "source": [
    "print(f\"Initial Values:\\n{dfl}\")"
   ]
  },
  {
   "cell_type": "code",
   "execution_count": 5,
   "metadata": {},
   "outputs": [],
   "source": [
    "lstmarks = []\n",
    "for col, col_series in filter(lambda column: column[0] == \"Marks\", dfl.iteritems()):\n",
    "    for row, mks in enumerate(col_series):\n",
    "        if mks >= 80:\n",
    "            lstmarks.append(\"A\")\n",
    "        elif 80 > mks >= 60:\n",
    "            lstmarks.append(\"B\")\n",
    "        elif mks < 60:\n",
    "            lstmarks.append(\"C\")"
   ]
  },
  {
   "cell_type": "code",
   "execution_count": 6,
   "metadata": {},
   "outputs": [
    {
     "name": "stdout",
     "output_type": "stream",
     "text": [
      "DataFrame after calculating Grades:\n",
      "       Name  Marks Grade\n",
      "0     Rohan     89     A\n",
      "1     Samay     76     B\n",
      "2  Shantanu     43     C\n",
      "3    Shruti     38     C\n",
      "4     Tanya     98     A\n"
     ]
    }
   ],
   "source": [
    "dfl[\"Grade\"] = lstmarks\n",
    "print(f\"DataFrame after calculating Grades:\\n{dfl}\")"
   ]
  }
 ],
 "metadata": {
  "interpreter": {
   "hash": "ea0cef0ce7b82dfebf1217f80824e7c76b54921b4e621df60a1fb3bb51f83c15"
  },
  "kernelspec": {
   "display_name": "Python 3.9.7 64-bit",
   "language": "python",
   "name": "python3"
  },
  "language_info": {
   "codemirror_mode": {
    "name": "ipython",
    "version": 3
   },
   "file_extension": ".py",
   "mimetype": "text/x-python",
   "name": "python",
   "nbconvert_exporter": "python",
   "pygments_lexer": "ipython3",
   "version": "3.9.7"
  },
  "orig_nbformat": 4
 },
 "nbformat": 4,
 "nbformat_minor": 2
}
