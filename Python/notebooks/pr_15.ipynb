{
 "cells": [
  {
   "cell_type": "markdown",
   "metadata": {},
   "source": [
    "## Project 15:\n",
    "\n",
    "Write a program to read from a CSV file [employees.csv](./employees.csv) and create a DataFrame from it but dataframe should not use file’s column header rather should use one column heading EmpId, EmpName, Desg, EmpSal.\n",
    "Also print the maximum salary given to an employee.\n",
    "\n",
    "Employee CSV files contains (Empno, Name, Desgination, Salary) of 6 employees."
   ]
  },
  {
   "cell_type": "code",
   "execution_count": 1,
   "metadata": {},
   "outputs": [],
   "source": [
    "import pandas as pd"
   ]
  },
  {
   "cell_type": "code",
   "execution_count": 2,
   "metadata": {},
   "outputs": [
    {
     "name": "stdout",
     "output_type": "stream",
     "text": [
      "                    Name Designation  Salary\n",
      "EmpNo                                       \n",
      "198      Donald OConnell    SH_CLERK    2600\n",
      "199        Douglas Grant    SH_CLERK    2600\n",
      "200      Jennifer Whalen     AD_ASST    4400\n",
      "201    Michael Hartstein      MK_MAN   13000\n",
      "202              Pat Fay      MK_REP    6000\n",
      "203         Susan Mavris      HR_REP    6500\n",
      "Maximum Salary: 13000\n"
     ]
    }
   ],
   "source": [
    "df = pd.read_csv(\"./employees.csv\", index_col=\"EmpNo\")\n",
    "print(df)\n",
    "print(f\"Maximum Salary: {df.Salary.max()}\")"
   ]
  }
 ],
 "metadata": {
  "interpreter": {
   "hash": "ea0cef0ce7b82dfebf1217f80824e7c76b54921b4e621df60a1fb3bb51f83c15"
  },
  "kernelspec": {
   "display_name": "Python 3.9.7 64-bit",
   "language": "python",
   "name": "python3"
  },
  "language_info": {
   "codemirror_mode": {
    "name": "ipython",
    "version": 3
   },
   "file_extension": ".py",
   "mimetype": "text/x-python",
   "name": "python",
   "nbconvert_exporter": "python",
   "pygments_lexer": "ipython3",
   "version": "3.9.7"
  },
  "orig_nbformat": 4
 },
 "nbformat": 4,
 "nbformat_minor": 2
}
