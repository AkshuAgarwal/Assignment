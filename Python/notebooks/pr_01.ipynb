{
 "cells": [
  {
   "cell_type": "markdown",
   "metadata": {},
   "source": [
    "## Project 1:\n",
    "\n",
    "Write python code to find out the Biggest and Smallest 3 items from the given Series.\n",
    "\n",
    "The series area has been created like :-\n",
    "\n",
    "```py\n",
    "area = pd.Series([3659,858,9659,78965,34568, 12456, 6935, 25649, 85214, 9645,3695])\n",
    "```"
   ]
  },
  {
   "cell_type": "code",
   "execution_count": 1,
   "metadata": {},
   "outputs": [],
   "source": [
    "import pandas as pd"
   ]
  },
  {
   "cell_type": "code",
   "execution_count": 2,
   "metadata": {},
   "outputs": [],
   "source": [
    "area = pd.Series([3659, 858, 9659, 78965, 34568, 12456, 6935, 25649, 85214, 9645, 3695])"
   ]
  },
  {
   "cell_type": "code",
   "execution_count": 4,
   "metadata": {},
   "outputs": [
    {
     "name": "stdout",
     "output_type": "stream",
     "text": [
      "Biggest 3 Items:\n",
      "4    34568\n",
      "3    78965\n",
      "8    85214\n",
      "dtype: int64\n",
      "\n",
      "Smallest 3 Items:\n",
      "1      858\n",
      "0     3659\n",
      "10    3695\n",
      "dtype: int64\n"
     ]
    }
   ],
   "source": [
    "print(f\"Biggest 3 Items:\\n{area.sort_values().tail(3)}\\n\")\n",
    "print(f\"Smallest 3 Items:\\n{area.sort_values().head(3)}\")"
   ]
  }
 ],
 "metadata": {
  "interpreter": {
   "hash": "ea0cef0ce7b82dfebf1217f80824e7c76b54921b4e621df60a1fb3bb51f83c15"
  },
  "kernelspec": {
   "display_name": "Python 3.9.7 64-bit",
   "language": "python",
   "name": "python3"
  },
  "language_info": {
   "codemirror_mode": {
    "name": "ipython",
    "version": 3
   },
   "file_extension": ".py",
   "mimetype": "text/x-python",
   "name": "python",
   "nbconvert_exporter": "python",
   "pygments_lexer": "ipython3",
   "version": "3.9.7"
  },
  "orig_nbformat": 4
 },
 "nbformat": 4,
 "nbformat_minor": 2
}
