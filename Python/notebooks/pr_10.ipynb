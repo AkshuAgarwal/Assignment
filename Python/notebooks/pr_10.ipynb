{
 "cells": [
  {
   "cell_type": "markdown",
   "metadata": {},
   "source": [
    "## Project 10:\n",
    "\n",
    "Create a Dataframe Forest `dFrameForest`\n",
    "\n",
    "|     | State   |   GrossArea | DenseForestArea   |\n",
    "|:---:|:--------|------------:|------------------:|\n",
    "|  0  | Assam   |       78438 | 2797.00           |\n",
    "|  1  | Delhi   |        1483 | 6.72              |\n",
    "|  2  | Kerela  |       38852 | 1663.00           |\n",
    "\n",
    "Write a Python Program to print only the State and DenseForestArea for all rows."
   ]
  },
  {
   "cell_type": "code",
   "execution_count": 1,
   "metadata": {},
   "outputs": [],
   "source": [
    "import pandas as pd"
   ]
  },
  {
   "cell_type": "code",
   "execution_count": 2,
   "metadata": {},
   "outputs": [],
   "source": [
    "data = {\n",
    "    \"State\": [\"Assam\", \"Delhi\", \"Kerela\"],\n",
    "    \"GrossArea\": [78438, 1483, 38852],\n",
    "    \"DenseForestArea\": [2792.00, 6.72, 1663.00],\n",
    "}"
   ]
  },
  {
   "cell_type": "code",
   "execution_count": 3,
   "metadata": {},
   "outputs": [
    {
     "name": "stdout",
     "output_type": "stream",
     "text": [
      "    State  DenseForestArea\n",
      "0   Assam          2792.00\n",
      "1   Delhi             6.72\n",
      "2  Kerela          1663.00\n"
     ]
    }
   ],
   "source": [
    "df = pd.DataFrame(data)\n",
    "print(df.loc[0:2, [\"State\", \"DenseForestArea\"]])"
   ]
  }
 ],
 "metadata": {
  "interpreter": {
   "hash": "ea0cef0ce7b82dfebf1217f80824e7c76b54921b4e621df60a1fb3bb51f83c15"
  },
  "kernelspec": {
   "display_name": "Python 3.9.7 64-bit",
   "language": "python",
   "name": "python3"
  },
  "language_info": {
   "codemirror_mode": {
    "name": "ipython",
    "version": 3
   },
   "file_extension": ".py",
   "mimetype": "text/x-python",
   "name": "python",
   "nbconvert_exporter": "python",
   "pygments_lexer": "ipython3",
   "version": "3.9.7"
  },
  "orig_nbformat": 4
 },
 "nbformat": 4,
 "nbformat_minor": 2
}
