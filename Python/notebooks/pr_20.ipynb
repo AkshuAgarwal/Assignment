{
 "cells": [
  {
   "cell_type": "markdown",
   "metadata": {},
   "source": [
    "## Project 20:\n",
    "\n",
    "Prof. Singh is doing some research in the field of Environment. For some plotting purposes, he has generated some data as:\n",
    "\n",
    "```py\n",
    "mu = 100\n",
    "sigma = 15\n",
    "x = mu + sigma * numpy.random.randn(10000)\n",
    "y = mu + 30 * numpy.random.randn(10000)\n",
    "```\n",
    "\n",
    "Write a program to plot this data on a bar-stacked horizontal histogram with both x and y. "
   ]
  },
  {
   "cell_type": "code",
   "execution_count": 1,
   "metadata": {},
   "outputs": [],
   "source": [
    "import matplotlib.pyplot as plt\n",
    "import numpy as np"
   ]
  },
  {
   "cell_type": "code",
   "execution_count": 2,
   "metadata": {},
   "outputs": [],
   "source": [
    "mu = 100\n",
    "sigma = 15\n",
    "x = mu + sigma * np.random.randn(10000)\n",
    "y = mu + 30 * np.random.randn(10000)"
   ]
  },
  {
   "cell_type": "code",
   "execution_count": 3,
   "metadata": {},
   "outputs": [
    {
     "data": {
      "image/png": "[encoded data removed]",
      "text/plain": [
       "<Figure size 432x288 with 1 Axes>"
      ]
     },
     "metadata": {
      "needs_background": "light"
     },
     "output_type": "display_data"
    }
   ],
   "source": [
    "plt.hist([x, y], bins=100, histtype=\"barstacked\")\n",
    "plt.show()"
   ]
  }
 ],
 "metadata": {
  "interpreter": {
   "hash": "ea0cef0ce7b82dfebf1217f80824e7c76b54921b4e621df60a1fb3bb51f83c15"
  },
  "kernelspec": {
   "display_name": "Python 3.9.7 64-bit",
   "language": "python",
   "name": "python3"
  },
  "language_info": {
   "codemirror_mode": {
    "name": "ipython",
    "version": 3
   },
   "file_extension": ".py",
   "mimetype": "text/x-python",
   "name": "python",
   "nbconvert_exporter": "python",
   "pygments_lexer": "ipython3",
   "version": "3.9.7"
  },
  "orig_nbformat": 4
 },
 "nbformat": 4,
 "nbformat_minor": 2
}
