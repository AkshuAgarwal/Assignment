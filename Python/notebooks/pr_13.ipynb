{
 "cells": [
  {
   "cell_type": "markdown",
   "metadata": {},
   "source": [
    "## Project 13:\n",
    "\n",
    "Create the following DataFrame Sales containing year wise sales figures for five sales persons in INR. Use the years as column labels, and sales person names as row labels.\n",
    "\n",
    "|         |   2014 |   2015 |   2016 |   2017 |\n",
    "|:--------|-------:|-------:|-------:|-------:|\n",
    "| Madhu   |  100.5 |  12000 |  20000 |  50000 |\n",
    "| Kusum   |  150.8 |  18000 |  50000 |  60000 |\n",
    "| Kinshuk |  200.9 |  22000 |  70000 |  70000 |\n",
    "| Ankit   |  30000 |  30000 | 100000 |  80000 |\n",
    "| Shruti  |  40000 |  45000 | 125000 |  90000 |\n",
    "\n",
    "Write a Python Program to do the following:\n",
    "<ol>\n",
    "    <li> Display the row labels of Sales. </li>\n",
    "    <li> Display the column labels of Sales. </li>\n",
    "    <li> Display the data types of each column of Sales. </li>\n",
    "    <li> Display the dimensions, shape, size and value of Sales. </li>\n",
    "    <li> Display the last two rows of Sales. </li>\n",
    "    <li> Display the first two columns of Sales. </li>\n",
    "    <li> Check if Sales DataFrame is empty or it contains data. </li>\n",
    "</ol>"
   ]
  },
  {
   "cell_type": "code",
   "execution_count": 1,
   "metadata": {},
   "outputs": [],
   "source": [
    "import pandas as pd"
   ]
  },
  {
   "cell_type": "code",
   "execution_count": 2,
   "metadata": {},
   "outputs": [
    {
     "name": "stdout",
     "output_type": "stream",
     "text": [
      "            2014   2015    2016   2017\n",
      "Madhu      100.5  12000   20000  50000\n",
      "Kusum      150.8  18000   50000  60000\n",
      "Kinshuk    200.9  22000   70000  70000\n",
      "Ankit    30000.0  30000  100000  80000\n",
      "Shruti   40000.0  45000  125000  90000\n"
     ]
    }
   ],
   "source": [
    "data = {\n",
    "    2014: [100.5, 150.8, 200.9, 30000, 40000],\n",
    "    2015: [12000, 18000, 22000, 30000, 45000],\n",
    "    2016: [20000, 50000, 70000, 100000, 125000],\n",
    "    2017: [50000, 60000, 70000, 80000, 90000],\n",
    "}\n",
    "\n",
    "sales = pd.DataFrame(data, index=[\"Madhu\", \"Kusum\", \"Kinshuk\", \"Ankit\", \"Shruti\"])\n",
    "print(sales)"
   ]
  },
  {
   "cell_type": "code",
   "execution_count": 3,
   "metadata": {},
   "outputs": [
    {
     "name": "stdout",
     "output_type": "stream",
     "text": [
      "Row Labels of Sales:\n",
      "Index(['Madhu', 'Kusum', 'Kinshuk', 'Ankit', 'Shruti'], dtype='object')\n"
     ]
    }
   ],
   "source": [
    "# a) Display the row labels of Sales.\n",
    "print(f\"Row Labels of Sales:\\n{sales.index}\", end=\"\\n\")"
   ]
  },
  {
   "cell_type": "code",
   "execution_count": 4,
   "metadata": {},
   "outputs": [
    {
     "name": "stdout",
     "output_type": "stream",
     "text": [
      "Column Labels of Sales:\n",
      "Int64Index([2014, 2015, 2016, 2017], dtype='int64')\n"
     ]
    }
   ],
   "source": [
    "# b) Display the column labels of Sales.\n",
    "print(f\"Column Labels of Sales:\\n{sales.columns}\", end=\"\\n\")"
   ]
  },
  {
   "cell_type": "code",
   "execution_count": 6,
   "metadata": {},
   "outputs": [
    {
     "name": "stdout",
     "output_type": "stream",
     "text": [
      "DTypes for each column:\n",
      "2014    float64\n",
      "2015      int64\n",
      "2016      int64\n",
      "2017      int64\n",
      "dtype: object\n"
     ]
    }
   ],
   "source": [
    "# c) Display the data types of each column of Sales.\n",
    "print(f\"DTypes for each column:\\n{sales.dtypes}\", end=\"\\n\")"
   ]
  },
  {
   "cell_type": "code",
   "execution_count": 7,
   "metadata": {},
   "outputs": [
    {
     "name": "stdout",
     "output_type": "stream",
     "text": [
      "Shape: (5, 4)\n",
      "Size: 20\n",
      "Values:\n",
      "[[1.005e+02 1.200e+04 2.000e+04 5.000e+04]\n",
      " [1.508e+02 1.800e+04 5.000e+04 6.000e+04]\n",
      " [2.009e+02 2.200e+04 7.000e+04 7.000e+04]\n",
      " [3.000e+04 3.000e+04 1.000e+05 8.000e+04]\n",
      " [4.000e+04 4.500e+04 1.250e+05 9.000e+04]]\n"
     ]
    }
   ],
   "source": [
    "# d) Display the dimensions, shape, size and value of Sales.\n",
    "print(f\"Shape: {sales.shape}\\nSize: {sales.size}\\nValues:\\n{sales.values}\", end=\"\\n\")"
   ]
  },
  {
   "cell_type": "code",
   "execution_count": 8,
   "metadata": {},
   "outputs": [
    {
     "name": "stdout",
     "output_type": "stream",
     "text": [
      "Last 2 rows of Sales:\n",
      "           2014   2015    2016   2017\n",
      "Ankit   30000.0  30000  100000  80000\n",
      "Shruti  40000.0  45000  125000  90000\n"
     ]
    }
   ],
   "source": [
    "# e) Display the last two rows of Sales.\n",
    "print(f\"Last 2 rows of Sales:\\n{sales.tail(2)}\", end=\"\\n\")"
   ]
  },
  {
   "cell_type": "code",
   "execution_count": 9,
   "metadata": {},
   "outputs": [
    {
     "name": "stdout",
     "output_type": "stream",
     "text": [
      "First 2 columns of Sales:\n",
      "        2014   2015   2016   2017\n",
      "Madhu  100.5  12000  20000  50000\n",
      "Kusum  150.8  18000  50000  60000\n"
     ]
    }
   ],
   "source": [
    "# f) Display the first two columns of Sales.\n",
    "print(f\"First 2 columns of Sales:\\n{sales.head(2)}\", end=\"\\n\")"
   ]
  },
  {
   "cell_type": "code",
   "execution_count": 10,
   "metadata": {},
   "outputs": [
    {
     "name": "stdout",
     "output_type": "stream",
     "text": [
      "Is Sales empty?: False\n"
     ]
    }
   ],
   "source": [
    "# g) Check if Sales DataFrame is empty or it contains data.\n",
    "print(f\"Is Sales empty?: {sales.empty}\", end=\"\\n\")"
   ]
  }
 ],
 "metadata": {
  "interpreter": {
   "hash": "ea0cef0ce7b82dfebf1217f80824e7c76b54921b4e621df60a1fb3bb51f83c15"
  },
  "kernelspec": {
   "display_name": "Python 3.9.7 64-bit",
   "language": "python",
   "name": "python3"
  },
  "language_info": {
   "codemirror_mode": {
    "name": "ipython",
    "version": 3
   },
   "file_extension": ".py",
   "mimetype": "text/x-python",
   "name": "python",
   "nbconvert_exporter": "python",
   "pygments_lexer": "ipython3",
   "version": "3.9.7"
  },
  "orig_nbformat": 4
 },
 "nbformat": 4,
 "nbformat_minor": 2
}
